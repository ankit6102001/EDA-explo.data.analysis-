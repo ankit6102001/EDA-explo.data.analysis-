{
  "nbformat": 4,
  "nbformat_minor": 0,
  "metadata": {
    "colab": {
      "provenance": [],
      "authorship_tag": "ABX9TyMPm93ef8kGFYITUhJGcBgf",
      "include_colab_link": true
    },
    "kernelspec": {
      "name": "python3",
      "display_name": "Python 3"
    },
    "language_info": {
      "name": "python"
    }
  },
  "cells": [
    {
      "cell_type": "markdown",
      "metadata": {
        "id": "view-in-github",
        "colab_type": "text"
      },
      "source": [
        "<a href=\"https://colab.research.google.com/github/ankit6102001/EDA-explo.data.analysis-/blob/main/Python_lecture.ipynb\" target=\"_parent\"><img src=\"https://colab.research.google.com/assets/colab-badge.svg\" alt=\"Open In Colab\"/></a>"
      ]
    },
    {
      "cell_type": "code",
      "execution_count": null,
      "metadata": {
        "colab": {
          "base_uri": "https://localhost:8080/"
        },
        "id": "NYRVBSPop73G",
        "outputId": "f5bf663c-bc2b-429f-f3cf-fe125a508b76"
      },
      "outputs": [
        {
          "output_type": "stream",
          "name": "stdout",
          "text": [
            "hello\n"
          ]
        }
      ],
      "source": [
        "#identifier\n",
        "A1=\"hello\"\n",
        "print(A1)"
      ]
    },
    {
      "cell_type": "code",
      "source": [
        "#string literal\n",
        "a='helllo'\n",
        "b=\"sun\"\n",
        "c='''my name is\n",
        "    ANkit'''\n",
        "print(a)\n",
        "print(b)\n",
        "print(c)    "
      ],
      "metadata": {
        "colab": {
          "base_uri": "https://localhost:8080/"
        },
        "id": "9Bi43WpQz2EN",
        "outputId": "691ad3ca-dbfa-4949-89c7-e759ebb32c0f"
      },
      "execution_count": null,
      "outputs": [
        {
          "output_type": "stream",
          "name": "stdout",
          "text": [
            "helllo\n",
            "sun\n",
            "my name is\n",
            "    ANkit\n"
          ]
        }
      ]
    },
    {
      "cell_type": "code",
      "source": [
        "#character literal\n",
        "a=\"G\"\n",
        "b='H'\n",
        "print(a)\n",
        "print(b)"
      ],
      "metadata": {
        "colab": {
          "base_uri": "https://localhost:8080/"
        },
        "id": "zMypRLWg0W96",
        "outputId": "b5579238-d549-4529-a7ce-56cd44f9827c"
      },
      "execution_count": null,
      "outputs": [
        {
          "output_type": "stream",
          "name": "stdout",
          "text": [
            "G\n",
            "H\n"
          ]
        }
      ]
    },
    {
      "cell_type": "code",
      "source": [
        "a=5\n",
        "b=-4\n",
        "c=3+4j\n",
        "d=6.7\n",
        "print(type(a))\n",
        "print(type(b))\n",
        "print(type(c))\n",
        "print(type(d))\n",
        "print(a)"
      ],
      "metadata": {
        "colab": {
          "base_uri": "https://localhost:8080/"
        },
        "id": "QbrgjwTI1A58",
        "outputId": "41a301e3-1022-4b15-d3a9-7707235c8cd4"
      },
      "execution_count": null,
      "outputs": [
        {
          "output_type": "stream",
          "name": "stdout",
          "text": [
            "<class 'int'>\n",
            "<class 'int'>\n",
            "<class 'complex'>\n",
            "<class 'float'>\n",
            "5\n"
          ]
        }
      ]
    },
    {
      "cell_type": "code",
      "source": [
        "#boolean literal  for false we use 0, for true we use 1\n",
        "a=3  \n",
        "b=(a==3)\n",
        "c=True+10\n",
        "print(a,b,c)\n"
      ],
      "metadata": {
        "colab": {
          "base_uri": "https://localhost:8080/"
        },
        "id": "Lxc5p4L5105c",
        "outputId": "de3a77ac-99da-4b81-aa0c-4639ae86962e"
      },
      "execution_count": null,
      "outputs": [
        {
          "output_type": "stream",
          "name": "stdout",
          "text": [
            "3 True 11\n"
          ]
        }
      ]
    },
    {
      "cell_type": "code",
      "source": [
        "#  special literal\n",
        "var=None\n",
        "print(type(var))\n"
      ],
      "metadata": {
        "colab": {
          "base_uri": "https://localhost:8080/"
        },
        "id": "c-kLY_IW2uqn",
        "outputId": "58f98d6b-9700-4bd7-a6a3-c33e279eee14"
      },
      "execution_count": null,
      "outputs": [
        {
          "output_type": "stream",
          "name": "stdout",
          "text": [
            "<class 'NoneType'>\n"
          ]
        }
      ]
    },
    {
      "cell_type": "code",
      "source": [
        "string1= \"Python is a programming language\"\n",
        "print(string1)\n",
        "print(type(string1))"
      ],
      "metadata": {
        "colab": {
          "base_uri": "https://localhost:8080/"
        },
        "id": "I-4vSx7x4vEL",
        "outputId": "1c54f54b-b1d2-4c51-b81d-0e827fb2d2b1"
      },
      "execution_count": null,
      "outputs": [
        {
          "output_type": "stream",
          "name": "stdout",
          "text": [
            "Python is a programming language\n",
            "<class 'str'>\n"
          ]
        }
      ]
    },
    {
      "cell_type": "code",
      "source": [
        "list=['python']\n",
        "print(list)\n",
        "list1=[\"sun\",\"moon\"]\n",
        "print(list1)\n",
        "list2=[4,5,6,\"python\"]\n",
        "print(type(list2))"
      ],
      "metadata": {
        "colab": {
          "base_uri": "https://localhost:8080/"
        },
        "id": "z0a6ZEm55TM6",
        "outputId": "9c853510-3a01-4ad0-fbc9-6385e712fc0d"
      },
      "execution_count": null,
      "outputs": [
        {
          "output_type": "stream",
          "name": "stdout",
          "text": [
            "['python']\n",
            "['sun', 'moon']\n",
            "<class 'list'>\n"
          ]
        }
      ]
    },
    {
      "cell_type": "code",
      "source": [
        "tup=(\"sun\",\"python\")\n",
        "print(type(tup))"
      ],
      "metadata": {
        "colab": {
          "base_uri": "https://localhost:8080/"
        },
        "id": "AIER2y5O6LML",
        "outputId": "2d318ad2-94be-4acd-8373-3d240892e07d"
      },
      "execution_count": null,
      "outputs": [
        {
          "output_type": "stream",
          "name": "stdout",
          "text": [
            "<class 'tuple'>\n"
          ]
        }
      ]
    },
    {
      "cell_type": "code",
      "source": [
        "print(type(True))\n",
        "print(type(False))"
      ],
      "metadata": {
        "colab": {
          "base_uri": "https://localhost:8080/"
        },
        "id": "oB-Uk41S6aen",
        "outputId": "d36ba858-5175-46c3-c800-043731244212"
      },
      "execution_count": null,
      "outputs": [
        {
          "output_type": "stream",
          "name": "stdout",
          "text": [
            "<class 'bool'>\n",
            "<class 'bool'>\n"
          ]
        }
      ]
    },
    {
      "cell_type": "code",
      "source": [
        "set1=set(\"python\")\n",
        "#print(\"blank set:\")\n",
        "print(set1)\n",
        "print(type(set1))"
      ],
      "metadata": {
        "colab": {
          "base_uri": "https://localhost:8080/"
        },
        "id": "odMhXNNb6560",
        "outputId": "0a7ea741-af00-4092-85e7-6a51dd339851"
      },
      "execution_count": null,
      "outputs": [
        {
          "output_type": "stream",
          "name": "stdout",
          "text": [
            "{'o', 'p', 't', 'n', 'h', 'y'}\n",
            "<class 'set'>\n"
          ]
        }
      ]
    },
    {
      "cell_type": "code",
      "source": [
        "dict={1:\"sonu\",2:\"sonu\",3:\"monu\"}\n",
        "print(dict)"
      ],
      "metadata": {
        "colab": {
          "base_uri": "https://localhost:8080/"
        },
        "id": "BA649NxB730v",
        "outputId": "51edbb17-0eea-4e86-9b4e-c07b7844303a"
      },
      "execution_count": null,
      "outputs": [
        {
          "output_type": "stream",
          "name": "stdout",
          "text": [
            "{1: 'sonu', 2: 'sonu', 3: 'monu'}\n"
          ]
        }
      ]
    },
    {
      "cell_type": "code",
      "source": [
        "var= \"python\"\n",
        "print(var)\n",
        "var=\"six\"\n",
        "print(var)\n"
      ],
      "metadata": {
        "colab": {
          "base_uri": "https://localhost:8080/"
        },
        "id": "QzxtHkKo6737",
        "outputId": "983a7274-9ddf-47ea-8bec-1eba72990050"
      },
      "execution_count": null,
      "outputs": [
        {
          "output_type": "stream",
          "name": "stdout",
          "text": [
            "python\n",
            "six\n"
          ]
        }
      ]
    },
    {
      "cell_type": "code",
      "source": [
        "a=4\n",
        "print(a)"
      ],
      "metadata": {
        "colab": {
          "base_uri": "https://localhost:8080/"
        },
        "id": "zo9GgmaI9q_e",
        "outputId": "650bf248-3d0c-4030-bb94-ccd3cf354881"
      },
      "execution_count": null,
      "outputs": [
        {
          "output_type": "stream",
          "name": "stdout",
          "text": [
            "4\n"
          ]
        }
      ]
    },
    {
      "cell_type": "code",
      "source": [
        "num= 100\n",
        "print(num)\n",
        "num=200\n",
        "print(num)"
      ],
      "metadata": {
        "colab": {
          "base_uri": "https://localhost:8080/"
        },
        "id": "Do3v9ean-Bl3",
        "outputId": "9eb2337c-1b8a-47b5-ef78-677240688eb5"
      },
      "execution_count": null,
      "outputs": [
        {
          "output_type": "stream",
          "name": "stdout",
          "text": [
            "100\n",
            "200\n"
          ]
        }
      ]
    },
    {
      "cell_type": "code",
      "source": [
        "a=b=c=10\n",
        "print(a)\n",
        "print(b)\n",
        "print(c)"
      ],
      "metadata": {
        "colab": {
          "base_uri": "https://localhost:8080/"
        },
        "id": "mTTXSXVr-NLY",
        "outputId": "7de36536-c5af-478f-8a55-9d694e351b01"
      },
      "execution_count": null,
      "outputs": [
        {
          "output_type": "stream",
          "name": "stdout",
          "text": [
            "10\n",
            "10\n",
            "10\n"
          ]
        }
      ]
    },
    {
      "cell_type": "code",
      "source": [
        "a,b,c=2,4,7\n",
        "print(a,b,c)"
      ],
      "metadata": {
        "colab": {
          "base_uri": "https://localhost:8080/"
        },
        "id": "LqLBcXw6-ew5",
        "outputId": "0d82d0ff-0fbd-4d89-9b54-4918c7fcb397"
      },
      "execution_count": null,
      "outputs": [
        {
          "output_type": "stream",
          "name": "stdout",
          "text": [
            "2 4 7\n"
          ]
        }
      ]
    },
    {
      "cell_type": "code",
      "source": [
        "a=5\n",
        "a=\"python\"\n",
        "print(a)"
      ],
      "metadata": {
        "colab": {
          "base_uri": "https://localhost:8080/"
        },
        "id": "DRn5nLLz-qVY",
        "outputId": "28776bcb-8f19-45a8-8274-b5924d8f02fe"
      },
      "execution_count": null,
      "outputs": [
        {
          "output_type": "stream",
          "name": "stdout",
          "text": [
            "python\n"
          ]
        }
      ]
    },
    {
      "cell_type": "code",
      "source": [],
      "metadata": {
        "id": "Woe1lspm-xOr"
      },
      "execution_count": null,
      "outputs": []
    },
    {
      "cell_type": "code",
      "source": [
        "a=7\n",
        "b=5\n",
        "print(a+b)"
      ],
      "metadata": {
        "colab": {
          "base_uri": "https://localhost:8080/"
        },
        "id": "y8-t0wEm-xU5",
        "outputId": "bbba9cd9-2220-4b1f-b82c-f1cfb3d1acb6"
      },
      "execution_count": null,
      "outputs": [
        {
          "output_type": "stream",
          "name": "stdout",
          "text": [
            "12\n"
          ]
        }
      ]
    },
    {
      "cell_type": "code",
      "source": [
        "a=int(input(\"enter a NUMBER:\"))\n",
        "print(type(a))"
      ],
      "metadata": {
        "colab": {
          "base_uri": "https://localhost:8080/"
        },
        "id": "faq4qn-y_LmR",
        "outputId": "a7216a4b-cf5e-454e-f2ed-22a43f9b45ce"
      },
      "execution_count": null,
      "outputs": [
        {
          "output_type": "stream",
          "name": "stdout",
          "text": [
            "enter a NUMBER:5\n",
            "<class 'int'>\n"
          ]
        }
      ]
    },
    {
      "cell_type": "code",
      "source": [
        "# Arithemetic operator -> addition , subtraction, division , multiplication\n",
        "a=9\n",
        "b=4\n",
        "add=a+b\n",
        "sub=a-b\n",
        "mul=a*b\n",
        "div1=a/b #float\n",
        "div2=a//b #floor\n",
        "mod = a%b\n",
        "p = a**b  # 9^4\n",
        "print(add)\n",
        "print(sub)\n",
        "print(mul)\n",
        "print(div1)\n",
        "print(div2)\n",
        "print(mod)\n",
        "print(p) \n"
      ],
      "metadata": {
        "id": "rFwwVI37_Psq",
        "colab": {
          "base_uri": "https://localhost:8080/"
        },
        "outputId": "0b372b05-fdfd-4050-a607-dca9085bf255"
      },
      "execution_count": null,
      "outputs": [
        {
          "output_type": "stream",
          "name": "stdout",
          "text": [
            "13\n",
            "5\n",
            "36\n",
            "2.25\n",
            "2\n",
            "1\n",
            "6561\n"
          ]
        }
      ]
    },
    {
      "cell_type": "code",
      "source": [
        "# comparison operator \n",
        "a=43\n",
        "b=43\n",
        "print(a>b)\n",
        "print(a<b)\n",
        "print(a==b)\n",
        "print(a!=b)\n",
        "print(a>=b)\n",
        "print(a<=b)"
      ],
      "metadata": {
        "colab": {
          "base_uri": "https://localhost:8080/"
        },
        "id": "zQc0YRaY8jAg",
        "outputId": "14b315f2-61c3-4776-e867-abbfcc9a977c"
      },
      "execution_count": null,
      "outputs": [
        {
          "output_type": "stream",
          "name": "stdout",
          "text": [
            "False\n",
            "False\n",
            "True\n",
            "False\n",
            "True\n",
            "True\n"
          ]
        }
      ]
    },
    {
      "cell_type": "code",
      "source": [
        "#loogical operator -> logical AND , logical OR , logical NOT\n",
        "a =True\n",
        "b= False\n",
        "print(a and b)\n",
        "print(a or b)\n",
        "print(not b)"
      ],
      "metadata": {
        "colab": {
          "base_uri": "https://localhost:8080/"
        },
        "id": "Gcu0xLyu-2Gk",
        "outputId": "17a04798-9d7a-4495-fb4a-8978f62a7486"
      },
      "execution_count": null,
      "outputs": [
        {
          "output_type": "stream",
          "name": "stdout",
          "text": [
            "False\n",
            "True\n",
            "True\n"
          ]
        }
      ]
    },
    {
      "cell_type": "code",
      "source": [
        "# assignmnent operator\n",
        "a=5\n",
        "b=a\n",
        "print(b)\n",
        "b+=a # b=b+a\n",
        "print(b)\n",
        "b-=a\n",
        "print(b)"
      ],
      "metadata": {
        "colab": {
          "base_uri": "https://localhost:8080/"
        },
        "id": "OvIHyy2kA2-T",
        "outputId": "4829c6f2-7ed4-4940-e95b-43f2a1c92cc5"
      },
      "execution_count": null,
      "outputs": [
        {
          "output_type": "stream",
          "name": "stdout",
          "text": [
            "5\n",
            "10\n",
            "5\n"
          ]
        }
      ]
    },
    {
      "cell_type": "code",
      "source": [
        "# Identity operators  -> is and is not\n",
        "a=10\n",
        "b=20\n",
        "c=20\n",
        "print(a is not b)\n",
        "print(a is c)"
      ],
      "metadata": {
        "colab": {
          "base_uri": "https://localhost:8080/"
        },
        "id": "wi3SHSVZCNbq",
        "outputId": "8e801445-223e-4ddb-c961-c490b3f8fad5"
      },
      "execution_count": null,
      "outputs": [
        {
          "output_type": "stream",
          "name": "stdout",
          "text": [
            "True\n",
            "False\n"
          ]
        }
      ]
    },
    {
      "cell_type": "code",
      "source": [
        "#membership operator -> in , in not\n",
        "a=24\n",
        "b=20\n",
        "list=[10,40,60,20]\n",
        "if(b not in list):\n",
        "  print(\"not present\")\n",
        "else:\n",
        "  print(\"present\")  "
      ],
      "metadata": {
        "colab": {
          "base_uri": "https://localhost:8080/"
        },
        "id": "4Sdt8I94DFa2",
        "outputId": "3f0d385d-61ee-4546-e6b2-a81eac186dcf"
      },
      "execution_count": null,
      "outputs": [
        {
          "output_type": "stream",
          "name": "stdout",
          "text": [
            "present\n"
          ]
        }
      ]
    },
    {
      "cell_type": "code",
      "source": [
        "print(5//2)"
      ],
      "metadata": {
        "colab": {
          "base_uri": "https://localhost:8080/"
        },
        "id": "BSVBI7A9ENmD",
        "outputId": "1b16a04c-3aa1-4ab0-9ff2-83044b604e53"
      },
      "execution_count": null,
      "outputs": [
        {
          "output_type": "stream",
          "name": "stdout",
          "text": [
            "2\n"
          ]
        }
      ]
    },
    {
      "cell_type": "code",
      "source": [
        "# bit wise operator > bitwise ANd \n",
        "a=10\n",
        "b=4\n",
        "print(a & b)"
      ],
      "metadata": {
        "colab": {
          "base_uri": "https://localhost:8080/"
        },
        "id": "vO7DbT60E30t",
        "outputId": "3125d1fc-95e4-4a51-cf9d-a1424edbc971"
      },
      "execution_count": null,
      "outputs": [
        {
          "output_type": "stream",
          "name": "stdout",
          "text": [
            "0\n"
          ]
        }
      ]
    },
    {
      "cell_type": "code",
      "source": [
        "a=10\n",
        "a=4\n",
        "print(a|b)  # 1110 ->  2^0\n",
        "# logical operator\n",
        "a=True\n",
        "b=False\n",
        "print(a and b)"
      ],
      "metadata": {
        "colab": {
          "base_uri": "https://localhost:8080/"
        },
        "id": "E2to9qOnH-Y-",
        "outputId": "3e87f0ce-3d30-4800-a9a0-5e34e33d3d3a"
      },
      "execution_count": null,
      "outputs": [
        {
          "output_type": "stream",
          "name": "stdout",
          "text": [
            "4\n",
            "False\n"
          ]
        }
      ]
    },
    {
      "cell_type": "code",
      "source": [
        "# bitwise and -> AND & returns 1 if both the bits are 1, otherwise it return 0\n",
        "# bitwise OR-> it returns 1 if any of the bits is 1, if both the bits are 0 then it returns 0\n",
        "#bitwise XOR-> it returns 1 if one of the bits is 0 and the other bit is 1, if both the bits are 0 and 1 then it returns 0\n",
        "a=10  # 1010\n",
        "b=7  #0111\n",
        "print(a^b) "
      ],
      "metadata": {
        "colab": {
          "base_uri": "https://localhost:8080/"
        },
        "id": "45_Vk13KBrcd",
        "outputId": "c260e905-8431-4062-e0b3-7bf3fb2b0098"
      },
      "execution_count": null,
      "outputs": [
        {
          "output_type": "stream",
          "name": "stdout",
          "text": [
            "13\n"
          ]
        }
      ]
    },
    {
      "cell_type": "code",
      "source": [
        "# biwise one's complement operator-> one's complement of a number A is equal to -(A+1)\n",
        "a=10 # 1010 -> -(1010+1)-> -(1011) -> -11\n",
        "print(~a)"
      ],
      "metadata": {
        "colab": {
          "base_uri": "https://localhost:8080/"
        },
        "id": "o1Rw7RHdFu5I",
        "outputId": "41480974-0d4e-43ea-85c4-0a65fde5777f"
      },
      "execution_count": null,
      "outputs": [
        {
          "output_type": "stream",
          "name": "stdout",
          "text": [
            "-11\n"
          ]
        }
      ]
    },
    {
      "cell_type": "code",
      "source": [
        "# bitwise left shift operator -> the binary number is appended with 0s at the end\n",
        "a=10 # 1010 << 2 -> 101000 ->40\n",
        "print(a<<2)\n"
      ],
      "metadata": {
        "colab": {
          "base_uri": "https://localhost:8080/"
        },
        "id": "kbWDq1vMGpv5",
        "outputId": "a58826ef-a4e4-42ff-9fe6-c47bb06dd08e"
      },
      "execution_count": null,
      "outputs": [
        {
          "output_type": "stream",
          "name": "stdout",
          "text": [
            "40\n"
          ]
        }
      ]
    },
    {
      "cell_type": "code",
      "source": [
        "# biwise right shift -> the right side bits are removed \n",
        "a=10 # 1010 >>2 ->10 -> 2\n",
        "print(a>>2)"
      ],
      "metadata": {
        "colab": {
          "base_uri": "https://localhost:8080/"
        },
        "id": "FHnmtLHZHjp9",
        "outputId": "4f206e68-f0c8-4f0c-bb46-e99f23ef84b1"
      },
      "execution_count": null,
      "outputs": [
        {
          "output_type": "stream",
          "name": "stdout",
          "text": [
            "2\n"
          ]
        }
      ]
    },
    {
      "cell_type": "code",
      "source": [
        "# ternary operator -> conditional expression \n",
        "# syntax-> [on_true] if [expression] else [on_false]\n",
        "a,b=10,20\n",
        "min= a if (a<b) else b\n",
        "print(min)"
      ],
      "metadata": {
        "colab": {
          "base_uri": "https://localhost:8080/"
        },
        "id": "6GZ-YDxmIPkE",
        "outputId": "503c31ce-09cc-47b6-fd58-86ef8091390a"
      },
      "execution_count": null,
      "outputs": [
        {
          "output_type": "stream",
          "name": "stdout",
          "text": [
            "10\n"
          ]
        }
      ]
    },
    {
      "cell_type": "code",
      "source": [
        "# if statement\n",
        "i=5\n",
        "if (i>10):\n",
        "  print(\"i is greater \")\n",
        "print(\"i is smaller\")  "
      ],
      "metadata": {
        "colab": {
          "base_uri": "https://localhost:8080/"
        },
        "id": "kWvxWG0CKu87",
        "outputId": "46831211-5458-4f3d-b720-5b8f6af66af4"
      },
      "execution_count": null,
      "outputs": [
        {
          "output_type": "stream",
          "name": "stdout",
          "text": [
            "i is smaller\n"
          ]
        }
      ]
    },
    {
      "cell_type": "code",
      "source": [
        "# if-else\n",
        "i=10\n",
        "if i<14:\n",
        "  print(\"i is smaller \")\n",
        "else:\n",
        "  print(\"i is greater\")\n",
        "    \n",
        "\n"
      ],
      "metadata": {
        "colab": {
          "base_uri": "https://localhost:8080/"
        },
        "id": "Ak4uYdKTLmdU",
        "outputId": "82c57122-2bfa-4b46-98f3-444fa715938e"
      },
      "execution_count": null,
      "outputs": [
        {
          "output_type": "stream",
          "name": "stdout",
          "text": [
            "i is smaller \n"
          ]
        }
      ]
    },
    {
      "cell_type": "code",
      "source": [
        "# nested -if - if statement in another if statement\n",
        "i=16\n",
        "if (i==10):\n",
        "  if (i<15):\n",
        "    print(\" i is smaller than 15\")\n",
        "  if (i<12):\n",
        "    print(\"i is smaller than 12\")\n",
        "else:\n",
        "    print(\"i is greater than 15\")    "
      ],
      "metadata": {
        "colab": {
          "base_uri": "https://localhost:8080/"
        },
        "id": "q2ZVP6dZM4Ob",
        "outputId": "fcf1785a-fadf-4012-d8f6-59c724e695e8"
      },
      "execution_count": null,
      "outputs": [
        {
          "output_type": "stream",
          "name": "stdout",
          "text": [
            "i is greater than 15\n"
          ]
        }
      ]
    },
    {
      "cell_type": "code",
      "source": [
        "# if - elif- else ladder\n",
        "i=25\n",
        "if(i==10):\n",
        "  print(\"i is 10\")\n",
        "elif(i==15):\n",
        "  print(\"i is 15\")\n",
        "elif(i==20):\n",
        "  print(\"i is 20\")\n",
        "else:\n",
        "  print(\"i is not present\")      "
      ],
      "metadata": {
        "colab": {
          "base_uri": "https://localhost:8080/"
        },
        "id": "FUrczshJO3_2",
        "outputId": "fe322208-1d78-4972-fa26-92e1a5367e03"
      },
      "execution_count": null,
      "outputs": [
        {
          "output_type": "stream",
          "name": "stdout",
          "text": [
            "i is not present\n"
          ]
        }
      ]
    },
    {
      "cell_type": "code",
      "source": [
        "b=10\n",
        "b+=10 #b=b+10\n",
        "print(b)"
      ],
      "metadata": {
        "colab": {
          "base_uri": "https://localhost:8080/"
        },
        "id": "FTdotlRzQLM0",
        "outputId": "9ceedb55-de24-4b86-e943-0e1d4a1af7e6"
      },
      "execution_count": null,
      "outputs": [
        {
          "output_type": "stream",
          "name": "stdout",
          "text": [
            "20\n"
          ]
        }
      ]
    },
    {
      "cell_type": "code",
      "source": [
        "i=10\n",
        "print(True) if i<15 else print(False)"
      ],
      "metadata": {
        "colab": {
          "base_uri": "https://localhost:8080/"
        },
        "id": "_ThbH4IQQd7t",
        "outputId": "85d1d67c-8e96-45cb-bff7-e56ac34b1433"
      },
      "execution_count": null,
      "outputs": [
        {
          "output_type": "stream",
          "name": "stdout",
          "text": [
            "True\n"
          ]
        }
      ]
    }
  ]
}